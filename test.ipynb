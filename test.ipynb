{
 "cells": [
  {
   "cell_type": "code",
   "execution_count": 7,
   "metadata": {},
   "outputs": [],
   "source": [
    "from google_auth_oauthlib.flow import InstalledAppFlow\n",
    "from googleapiclient.discovery import build\n",
    "from googleapiclient.errors import HttpError\n",
    "from google.oauth2.credentials import Credentials\n",
    "from google.auth.transport.requests import Request\n",
    "import os.path\n",
    "\n",
    "\n",
    "\n",
    "def oauth():\n",
    "    SCOPES = ['https://www.googleapis.com/auth/spreadsheets', 'https://www.googleapis.com/auth/drive']\n",
    "    creds = None\n",
    "    creds_filename = '3-3-2daebong-spreadsheet.json'\n",
    "    # 토큰 파일이 있는지 확인합니다. 있으면 인증 정보를 로드합니다.\n",
    "    if os.path.exists('token.json'):\n",
    "        # creds = Credentials.from_authorized_user_file('token.json', SCOPES)\n",
    "        flow = InstalledAppFlow.from_client_secrets_file(\n",
    "                creds_filename, SCOPES)\n",
    "        creds = flow.run_local_server(port=8080)\n",
    "        # flow = InstalledAppFlow.from_client_secrets_file(\n",
    "        #         creds_filename, SCOPES)\n",
    "        # creds = flow.run_local_server(port=8080)\n",
    "    # 토큰이 없거나 유효하지 않으면 사용자 인증을 다시 진행합니다.\n",
    "    if not creds or not creds.valid:\n",
    "        if creds and creds.expired and creds.refresh_token:\n",
    "            creds.refresh(Request())\n",
    "        else:\n",
    "            flow = InstalledAppFlow.from_client_secrets_file(\n",
    "                creds_filename, SCOPES)\n",
    "            creds = flow.run_local_server(port=8080)\n",
    "        # 새로운 인증 정보를 파일로 저장합니다.\n",
    "        with open('token.json', 'w') as token:\n",
    "            token.write(creds.to_json())\n",
    "    return creds"
   ]
  },
  {
   "cell_type": "code",
   "execution_count": 9,
   "metadata": {},
   "outputs": [],
   "source": [
    "from google.oauth2 import service_account\n",
    "\n",
    "def oauth():\n",
    "    SCOPES = ['https://www.googleapis.com/auth/spreadsheets']\n",
    "    creds_filename = 'test-daebong-service-account.json'  # 서비스 계정 파일 경로를 지정합니다.\n",
    "\n",
    "    # 서비스 계정 파일을 사용하여 인증 정보를 로드합니다.\n",
    "    creds = service_account.Credentials.from_service_account_file(creds_filename, scopes=SCOPES)\n",
    "    return creds"
   ]
  },
  {
   "cell_type": "code",
   "execution_count": 10,
   "metadata": {},
   "outputs": [],
   "source": [
    "def get_sheet_data(spreadsheet_id, range_name):\n",
    "    # SCOPES = ['https://www.googleapis.com/auth/spreadsheets.readonly']\n",
    "    # # credentials.json 파일 경로를 지정합니다.\n",
    "    # creds_filename = './credentials.json'\n",
    "\n",
    "    # flow = InstalledAppFlow.from_client_secrets_file(creds_filename, SCOPES)\n",
    "    # # 여기서 인증을 진행합니다. 아래의 메소드 중 하나를 선택하세요.\n",
    "    # # creds = flow.run_console()\n",
    "    # creds = flow.run_local_server(port=8080)\n",
    "\n",
    "    creds = oauth()\n",
    "\n",
    "    try:\n",
    "        service = build('sheets', 'v4', credentials=creds)\n",
    "        # 스프레드시트 ID와 범위(예: \"Sheet1!A1:C2\")를 지정합니다.\n",
    "        # result = service.spreadsheets().values().get(spreadsheetId=spreadsheet_id).execute()\n",
    "        result = service.spreadsheets().values().get(spreadsheetId=spreadsheet_id, range=range_name).execute()\n",
    "        print(result)\n",
    "        rows = result.get('values', [])\n",
    "\n",
    "        if not rows:\n",
    "            print('No data found.')\n",
    "            return\n",
    "        print('Name, Major:')\n",
    "        for row in rows:\n",
    "            # 행의 각 열을 출력합니다.\n",
    "            print(f\"{row[0]}, {row[1]}\")\n",
    "    except HttpError as error:\n",
    "        print(f\"An error occurred: {error}\")"
   ]
  },
  {
   "cell_type": "code",
   "execution_count": 11,
   "metadata": {},
   "outputs": [],
   "source": [
    "def get_all_sheet_data(spreadsheet_id):\n",
    "    # SCOPES = ['https://www.googleapis.com/auth/spreadsheets.readonly']\n",
    "    # # credentials.json 파일 경로를 지정합니다.\n",
    "    # creds_filename = './credentials.json'\n",
    "\n",
    "    # flow = InstalledAppFlow.from_client_secrets_file(creds_filename, SCOPES)\n",
    "    # # 여기서 인증을 진행합니다. 아래의 메소드 중 하나를 선택하세요.\n",
    "    # # creds = flow.run_console()\n",
    "    # creds = flow.run_local_server(port=8080)\n",
    "\n",
    "    creds = oauth()\n",
    "\n",
    "    try:\n",
    "        service = build('sheets', 'v4', credentials=creds)\n",
    "        # 스프레드시트 ID와 범위(예: \"Sheet1!A1:C2\")를 지정합니다.\n",
    "        spreadsheet = service.spreadsheets().get(spreadsheetId=spreadsheet_id).execute()\n",
    "        # result = service.spreadsheets().values().get(spreadsheetId=spreadsheet_id, range=range_name).execute()\n",
    "        # print(\"spreadsheet\", spreadsheet, \"\\n\")\n",
    "        sheets = spreadsheet.get('sheets', [])\n",
    "        sheet2 = sheets[1]\n",
    "        sheet2_title = sheet2['properties']['title'] \n",
    "        result = service.spreadsheets().values().get(spreadsheetId=spreadsheet_id, range=sheet2_title).execute()\n",
    "        sheet2_rows = result.get('values', [])\n",
    "        sheet2_rows_2 = sheet2_rows[1]\n",
    "        print(\"sheet2_rows_2\", sheet2_rows_2)\n",
    "        sheet2_rows_2_current_seller = sheet2_rows_2[1]\n",
    "        print(\"sheet2_rows_2_current_seller\", sheet2_rows_2_current_seller)\n",
    "        return sheet2_rows_2_current_seller\n",
    "        # for sheet in sheets:\n",
    "        #     title = sheet['properties']['title']\n",
    "        #     print(f\"Sheet title: {title}\")\n",
    "        #     # 각 시트의 첫 번째 셀 데이터를 가져옵니다.\n",
    "        #     # 전체 데이터를 가져오려면 적절한 범위를 지정하세요.\n",
    "        #     result = service.spreadsheets().values().get(spreadsheetId=spreadsheet_id, range=title).execute()\n",
    "        #     rows = result.get('values', [])\n",
    "        #     if not rows:\n",
    "        #         print('No data found.')\n",
    "        #         continue\n",
    "        #     for row in rows:\n",
    "        #         print(row)  # 각 행의 데이터를 출력합니다.\n",
    "    except HttpError as error:\n",
    "        print(f\"An error occurred: {error}\")"
   ]
  },
  {
   "cell_type": "code",
   "execution_count": 13,
   "metadata": {},
   "outputs": [
    {
     "name": "stdout",
     "output_type": "stream",
     "text": [
      "sheet2_rows_2 ['#REF!']\n"
     ]
    },
    {
     "ename": "IndexError",
     "evalue": "list index out of range",
     "output_type": "error",
     "traceback": [
      "\u001b[0;31m---------------------------------------------------------------------------\u001b[0m",
      "\u001b[0;31mIndexError\u001b[0m                                Traceback (most recent call last)",
      "Cell \u001b[0;32mIn[13], line 5\u001b[0m\n\u001b[1;32m      3\u001b[0m SPREADSHEET_ID \u001b[38;5;241m=\u001b[39m \u001b[38;5;124m'\u001b[39m\u001b[38;5;124m1FkXg4GZvM9bnCWwSrgNRlMnNuXymSbe582xbtTQFM1c\u001b[39m\u001b[38;5;124m'\u001b[39m\n\u001b[1;32m      4\u001b[0m \u001b[38;5;66;03m# RANGE_NAME = '시트1!A1:C2'\u001b[39;00m\n\u001b[0;32m----> 5\u001b[0m new_daebong_spreadsheet_title \u001b[38;5;241m=\u001b[39m \u001b[43mget_all_sheet_data\u001b[49m\u001b[43m(\u001b[49m\u001b[43mSPREADSHEET_ID\u001b[49m\u001b[43m)\u001b[49m\n\u001b[1;32m      6\u001b[0m \u001b[38;5;28mprint\u001b[39m(\u001b[38;5;124m\"\u001b[39m\u001b[38;5;124mnew_daebong_spreadsheet_title\u001b[39m\u001b[38;5;124m\"\u001b[39m, new_daebong_spreadsheet_title)\n",
      "Cell \u001b[0;32mIn[11], line 26\u001b[0m, in \u001b[0;36mget_all_sheet_data\u001b[0;34m(spreadsheet_id)\u001b[0m\n\u001b[1;32m     24\u001b[0m sheet2_rows_2 \u001b[38;5;241m=\u001b[39m sheet2_rows[\u001b[38;5;241m1\u001b[39m]\n\u001b[1;32m     25\u001b[0m \u001b[38;5;28mprint\u001b[39m(\u001b[38;5;124m\"\u001b[39m\u001b[38;5;124msheet2_rows_2\u001b[39m\u001b[38;5;124m\"\u001b[39m, sheet2_rows_2)\n\u001b[0;32m---> 26\u001b[0m sheet2_rows_2_current_seller \u001b[38;5;241m=\u001b[39m \u001b[43msheet2_rows_2\u001b[49m\u001b[43m[\u001b[49m\u001b[38;5;241;43m1\u001b[39;49m\u001b[43m]\u001b[49m\n\u001b[1;32m     27\u001b[0m \u001b[38;5;28mprint\u001b[39m(\u001b[38;5;124m\"\u001b[39m\u001b[38;5;124msheet2_rows_2_current_seller\u001b[39m\u001b[38;5;124m\"\u001b[39m, sheet2_rows_2_current_seller)\n\u001b[1;32m     28\u001b[0m \u001b[38;5;28;01mreturn\u001b[39;00m sheet2_rows_2_current_seller\n",
      "\u001b[0;31mIndexError\u001b[0m: list index out of range"
     ]
    }
   ],
   "source": [
    "#제피어_연동 1Ajz2g-pChLSoies5umhPMcgTp5m2MIjhljJOviPlWCU\n",
    "SPREADSHEET_ID = '1Ajz2g-pChLSoies5umhPMcgTp5m2MIjhljJOviPlWCU'\n",
    "# SPREADSHEET_ID = '1FkXg4GZvM9bnCWwSrgNRlMnNuXymSbe582xbtTQFM1c'\n",
    "# RANGE_NAME = '시트1!A1:C2'\n",
    "new_daebong_spreadsheet_title = get_all_sheet_data(SPREADSHEET_ID)\n",
    "print(\"new_daebong_spreadsheet_title\", new_daebong_spreadsheet_title)"
   ]
  },
  {
   "cell_type": "code",
   "execution_count": 7,
   "metadata": {},
   "outputs": [],
   "source": [
    "# 스프레드시트를 복사하고 새로운 스프레드시트의 ID를 반환하는 함수\n",
    "def copy_spreadsheet(service, spreadsheet_id, title):\n",
    "    spreadsheet_body = {\n",
    "        'properties': {\n",
    "            'title': title,\n",
    "        }\n",
    "    }\n",
    "    request = service.spreadsheets().create(body=spreadsheet_body)\n",
    "    new_spreadsheet = request.execute()\n",
    "\n",
    "    sheets = service.spreadsheets().get(spreadsheetId=spreadsheet_id).execute().get('sheets', [])\n",
    "    for sheet in sheets:\n",
    "        sheet_id = sheet['properties']['sheetId']\n",
    "        service.spreadsheets().sheets().copyTo(spreadsheetId=spreadsheet_id, sheetId=sheet_id, body={'destinationSpreadsheetId': new_spreadsheet['spreadsheetId']}).execute()\n",
    "\n",
    "    return new_spreadsheet['spreadsheetId']"
   ]
  },
  {
   "cell_type": "code",
   "execution_count": 21,
   "metadata": {},
   "outputs": [],
   "source": [
    "def copy_spreadsheet_and_rename_sheets(service, original_spreadsheet_id, new_title, sheet_names):\n",
    "    # 새 스프레드시트 생성\n",
    "    spreadsheet_body = {'properties': {'title': new_title}}\n",
    "    new_spreadsheet = service.spreadsheets().create(body=spreadsheet_body).execute()\n",
    "    new_spreadsheet_id = new_spreadsheet['spreadsheetId']\n",
    "\n",
    "    # 기존 스프레드시트의 시트 정보를 가져옴\n",
    "    sheets = service.spreadsheets().get(spreadsheetId=original_spreadsheet_id).execute().get('sheets', [])\n",
    "\n",
    "    # 새 스프레드시트에 시트 복사 및 이름 변경\n",
    "    print(\"title\", sheets[0]['properties']['title'])\n",
    "    print(\"title\", sheets[1]['properties']['title'])\n",
    "    print(\"title\", sheets[2]['properties']['title'])\n",
    "    for sheet in sheets:\n",
    "        title = sheet['properties']['title']\n",
    "        \n",
    "        if title in sheet_names:\n",
    "            # 시트 복사\n",
    "            copied_sheet = service.spreadsheets().sheets().copyTo(\n",
    "                spreadsheetId=original_spreadsheet_id,\n",
    "                sheetId=sheet['properties']['sheetId'],\n",
    "                body={'destinationSpreadsheetId': new_spreadsheet_id}\n",
    "            ).execute()\n",
    "\n",
    "            # 복사된 시트의 이름을 원하는 이름으로 변경\n",
    "            new_sheet_id = copied_sheet['sheetId']\n",
    "            requests = [{\n",
    "                'updateSheetProperties': {\n",
    "                    'properties': {\n",
    "                        'sheetId': new_sheet_id,\n",
    "                        'title': sheet_names[title]\n",
    "                    },\n",
    "                    'fields': 'title'\n",
    "                }\n",
    "            }]\n",
    "            service.spreadsheets().batchUpdate(spreadsheetId=new_spreadsheet_id, body={'requests': requests}).execute()\n",
    "\n",
    "    # 새 스프레드시트에서 기본으로 생성된 첫 번째 시트 삭제\n",
    "    first_sheet_id = new_spreadsheet['sheets'][0]['properties']['sheetId']\n",
    "    requests = [{'deleteSheet': {'sheetId': first_sheet_id}}]\n",
    "    service.spreadsheets().batchUpdate(spreadsheetId=new_spreadsheet_id, body={'requests': requests}).execute()\n",
    "\n",
    "    return new_spreadsheet_id\n"
   ]
  },
  {
   "cell_type": "code",
   "execution_count": 28,
   "metadata": {},
   "outputs": [],
   "source": [
    "def copy_entire_spreadsheet(original_spreadsheet_id, copy_title, creds):\n",
    "    drive_service = build('drive', 'v3', credentials=creds)\n",
    "    copied_file = {'name': copy_title}\n",
    "    request = drive_service.files().copy(fileId=original_spreadsheet_id, body=copied_file)\n",
    "    response = request.execute()\n",
    "    return response['id']"
   ]
  },
  {
   "cell_type": "code",
   "execution_count": 25,
   "metadata": {},
   "outputs": [],
   "source": [
    "def apply_formula_to_cells(service, spreadsheet_id, sheet_title):\n",
    "    range_name = f\"{sheet_title}!J11:J\"  # J열 11행부터 끝까지\n",
    "    formula = f'=IF(LEN(E11)=0,\"\", {new_daebong_spreadsheet_title})'  # 적용할 수식\n",
    "    value_range_body = {\n",
    "        'values': [[formula] for _ in range(1000)]  # 예시로 1000행까지 적용, 필요에 따라 조정\n",
    "    }\n",
    "    request = service.spreadsheets().values().update(spreadsheetId=spreadsheet_id, range=range_name, valueInputOption='USER_ENTERED', body=value_range_body)\n",
    "    request.execute()"
   ]
  },
  {
   "cell_type": "code",
   "execution_count": 24,
   "metadata": {},
   "outputs": [],
   "source": [
    "# 특정 셀에 수식을 적용하는 함수\n",
    "def apply_formula_to_cell_sheet2(service, spreadsheet_id, sheet_title, cell_range, formula):\n",
    "    range_name = f\"{sheet_title}!{cell_range}\"  # 지정된 시트의 특정 셀 범위\n",
    "    value_range_body = {\n",
    "        'values': [[formula]]  # 적용할 수식\n",
    "    }\n",
    "    request = service.spreadsheets().values().update(\n",
    "        spreadsheetId=spreadsheet_id,\n",
    "        range=range_name,\n",
    "        valueInputOption='USER_ENTERED',\n",
    "        body=value_range_body\n",
    "    )\n",
    "    request.execute()"
   ]
  },
  {
   "cell_type": "code",
   "execution_count": 30,
   "metadata": {},
   "outputs": [
    {
     "name": "stdout",
     "output_type": "stream",
     "text": [
      "An error occurred: <HttpError 403 when requesting https://www.googleapis.com/drive/v3/files/1REGtwSKR3A6LQa838I6myMFxKtmeDbfGfk6xh18qnmE/copy?alt=json returned \"Request had insufficient authentication scopes.\". Details: \"[{'message': 'Insufficient Permission', 'domain': 'global', 'reason': 'insufficientPermissions'}]\">\n"
     ]
    }
   ],
   "source": [
    "creds = oauth()\n",
    "service = build('sheets', 'v4', credentials=creds)\n",
    "\n",
    "# 1REGtwSKR3A6LQa838I6myMFxKtmeDbfGfk6xh18qnmE 대봉 발주서 파일 ID\n",
    "original_spreadsheet_id = '1REGtwSKR3A6LQa838I6myMFxKtmeDbfGfk6xh18qnmE'\n",
    "new_title = new_daebong_spreadsheet_title\n",
    "\n",
    "# 사용 예시\n",
    "sheet_names = {\n",
    "    '발주서': '발주서',\n",
    "    '누적발주': '누적발주',\n",
    "    '상품목록': '상품목록'\n",
    "}\n",
    "\n",
    "\n",
    "try:\n",
    "    # new_spreadsheet_id = copy_spreadsheet_and_rename_sheets(service, original_spreadsheet_id, new_title, sheet_names)\n",
    "    # 스프레드시트 복사\n",
    "    # new_spreadsheet_id = copy_spreadsheet(service, original_spreadsheet_id, new_title)\n",
    "    # print(f\"New spreadsheet created with ID: {new_spreadsheet_id}\")\n",
    "\n",
    "    new_spreadsheet_id = copy_entire_spreadsheet(original_spreadsheet_id, new_title, creds)\n",
    "    print(f\"New spreadsheet created with ID: {new_spreadsheet_id}\")\n",
    "\n",
    "    # # 수식 적용\n",
    "    # apply_formula_to_cells(service, new_spreadsheet_id, '발주서')\n",
    "    # print(\"Formula applied to cells in the new spreadsheet. 발주서\")\n",
    "\n",
    "    # cell_range = 'A2'  # 수식을 적용할 셀 범위\n",
    "    # formula = f'=IMPORTRANGE(\"1lkkPYvkEzPCoKhUf41U7hiosH3fCU4zzKo8JmqXLbTQ\",\"\\'시트{new_daebong_spreadsheet_title}\\'!$A$1:$N$5999\")'  # A2 셀에 적용할 수식\n",
    "    # apply_formula_to_cell_sheet2(service, new_spreadsheet_id, '누적발주', cell_range, formula)\n",
    "    # print(\"Formula applied to cells in the new spreadsheet. 누적발주\")\n",
    "\n",
    "\n",
    "except HttpError as error:\n",
    "        print(f\"An error occurred: {error}\")\n"
   ]
  },
  {
   "cell_type": "code",
   "execution_count": 1,
   "metadata": {},
   "outputs": [
    {
     "ename": "NameError",
     "evalue": "name 'HttpError' is not defined",
     "output_type": "error",
     "traceback": [
      "\u001b[0;31m---------------------------------------------------------------------------\u001b[0m",
      "\u001b[0;31mNameError\u001b[0m                                 Traceback (most recent call last)",
      "Cell \u001b[0;32mIn[1], line 3\u001b[0m\n\u001b[1;32m      1\u001b[0m \u001b[38;5;28;01mtry\u001b[39;00m:\n\u001b[1;32m      2\u001b[0m     \u001b[38;5;66;03m# 수식 적용\u001b[39;00m\n\u001b[0;32m----> 3\u001b[0m     \u001b[43mapply_formula_to_cells\u001b[49m(service, new_spreadsheet_id, \u001b[38;5;124m'\u001b[39m\u001b[38;5;124m발주서\u001b[39m\u001b[38;5;124m'\u001b[39m)\n\u001b[1;32m      4\u001b[0m     \u001b[38;5;28mprint\u001b[39m(\u001b[38;5;124m\"\u001b[39m\u001b[38;5;124mFormula applied to cells in the new spreadsheet. 발주서\u001b[39m\u001b[38;5;124m\"\u001b[39m)\n",
      "\u001b[0;31mNameError\u001b[0m: name 'apply_formula_to_cells' is not defined",
      "\nDuring handling of the above exception, another exception occurred:\n",
      "\u001b[0;31mNameError\u001b[0m                                 Traceback (most recent call last)",
      "Cell \u001b[0;32mIn[1], line 12\u001b[0m\n\u001b[1;32m      8\u001b[0m     apply_formula_to_cell_sheet2(service, new_spreadsheet_id, \u001b[38;5;124m'\u001b[39m\u001b[38;5;124m누적발주\u001b[39m\u001b[38;5;124m'\u001b[39m, cell_range, formula)\n\u001b[1;32m      9\u001b[0m     \u001b[38;5;28mprint\u001b[39m(\u001b[38;5;124m\"\u001b[39m\u001b[38;5;124mFormula applied to cells in the new spreadsheet. 누적발주\u001b[39m\u001b[38;5;124m\"\u001b[39m)\n\u001b[0;32m---> 12\u001b[0m \u001b[38;5;28;01mexcept\u001b[39;00m \u001b[43mHttpError\u001b[49m \u001b[38;5;28;01mas\u001b[39;00m error:\n\u001b[1;32m     13\u001b[0m         \u001b[38;5;28mprint\u001b[39m(\u001b[38;5;124mf\u001b[39m\u001b[38;5;124m\"\u001b[39m\u001b[38;5;124mAn error occurred: \u001b[39m\u001b[38;5;132;01m{\u001b[39;00merror\u001b[38;5;132;01m}\u001b[39;00m\u001b[38;5;124m\"\u001b[39m)\n",
      "\u001b[0;31mNameError\u001b[0m: name 'HttpError' is not defined"
     ]
    }
   ],
   "source": [
    "try:\n",
    "    # 수식 적용\n",
    "    apply_formula_to_cells(service, new_spreadsheet_id, '발주서')\n",
    "    print(\"Formula applied to cells in the new spreadsheet. 발주서\")\n",
    "\n",
    "    cell_range = 'A2'  # 수식을 적용할 셀 범위\n",
    "    formula = f'=IMPORTRANGE(\"1lkkPYvkEzPCoKhUf41U7hiosH3fCU4zzKo8JmqXLbTQ\",\"\\'시트{new_daebong_spreadsheet_title}\\'!$A$1:$N$5999\")'  # A2 셀에 적용할 수식\n",
    "    apply_formula_to_cell_sheet2(service, new_spreadsheet_id, '누적발주', cell_range, formula)\n",
    "    print(\"Formula applied to cells in the new spreadsheet. 누적발주\")\n",
    "\n",
    "\n",
    "except HttpError as error:\n",
    "        print(f\"An error occurred: {error}\")"
   ]
  },
  {
   "cell_type": "code",
   "execution_count": null,
   "metadata": {},
   "outputs": [],
   "source": []
  }
 ],
 "metadata": {
  "kernelspec": {
   "display_name": "daebong",
   "language": "python",
   "name": "python3"
  },
  "language_info": {
   "codemirror_mode": {
    "name": "ipython",
    "version": 3
   },
   "file_extension": ".py",
   "mimetype": "text/x-python",
   "name": "python",
   "nbconvert_exporter": "python",
   "pygments_lexer": "ipython3",
   "version": "3.10.13"
  }
 },
 "nbformat": 4,
 "nbformat_minor": 2
}
