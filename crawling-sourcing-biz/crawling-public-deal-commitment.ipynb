{
 "cells": [
  {
   "cell_type": "code",
   "execution_count": null,
   "metadata": {},
   "outputs": [],
   "source": [
    "import requests\n",
    "\n",
    "url = 'https://apis.data.go.kr/1130000/MllBs_1Service/getMllBsCoNmInfo_1'\n",
    "params = {\n",
    "    'serviceKey': 'bHnmNZEuK+VScJtzcYKLpHzJX1kxP8Il6rywVG2J5rw5vR21dUex6pqgjEx6inNi0VHm7TOirhM8A/3J8KoF4A==',\n",
    "    'pageNo': '695',\n",
    "    'numOfRows': '1',\n",
    "    'resultType': 'json',\n",
    "    'bzmnNm': '영농조합'\n",
    "}\n",
    "\n",
    "response = requests.get(url, params=params)\n",
    "\n",
    "if response.status_code == 200:\n",
    "    data = response.json()\n",
    "    print(data)  # 응답 데이터 출력 또는 처리\n",
    "else:\n",
    "    print('HTTP 요청이 실패했습니다. 상태 코드:', response.status_code)\n",
    "\n",
    "\n",
    "\n"
   ]
  }
 ],
 "metadata": {
  "kernelspec": {
   "display_name": "unit-pricing",
   "language": "python",
   "name": "python3"
  },
  "language_info": {
   "name": "python",
   "version": "3.11.8"
  }
 },
 "nbformat": 4,
 "nbformat_minor": 2
}
