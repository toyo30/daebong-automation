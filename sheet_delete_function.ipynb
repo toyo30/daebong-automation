{
 "cells": [
  {
   "cell_type": "code",
   "execution_count": 7,
   "metadata": {},
   "outputs": [],
   "source": [
    "from google_auth_oauthlib.flow import InstalledAppFlow\n",
    "from googleapiclient.discovery import build\n",
    "from googleapiclient.errors import HttpError\n",
    "from google.oauth2.credentials import Credentials\n",
    "from google.oauth2 import service_account\n",
    "from google.auth.transport.requests import Request\n",
    "import os.path\n",
    "import json\n",
    "import pickle\n",
    "import requests\n",
    "import time\n",
    "\n",
    "def oauth():\n",
    "    SCOPES = ['https://www.googleapis.com/auth/spreadsheets', \n",
    "              'https://www.googleapis.com/auth/script.projects', 'https://www.googleapis.com/auth/drive', 'https://www.googleapis.com/auth/drive.file'\n",
    "              ]\n",
    "    creds_filename = 'test-daebong-service-account.json'  # 서비스 계정 파일 경로를 지정합니다.\n",
    "\n",
    "    # 서비스 계정 파일을 사용하여 인증 정보를 로드합니다.\n",
    "    creds = service_account.Credentials.from_service_account_file(creds_filename, scopes=SCOPES)\n",
    "    return creds\n",
    "\n",
    "def oauthByWeb():\n",
    "    # 필요한 스코프를 지정합니다.\n",
    "    SCOPES = [\n",
    "        'https://www.googleapis.com/auth/spreadsheets',\n",
    "        'https://www.googleapis.com/auth/script.projects',\n",
    "        'https://www.googleapis.com/auth/drive',\n",
    "        'https://www.googleapis.com/auth/drive.file'\n",
    "    ]\n",
    "    creds = None\n",
    "    # 'token.json' 파일이 존재하면, 저장된 인증 정보를 불러옵니다.\n",
    "    if os.path.exists('token.json'):\n",
    "        with open('token.json', 'rb') as token:\n",
    "            creds = pickle.load(token)\n",
    "\n",
    "    # 저장된 인증 정보가 없거나, 유효하지 않은 경우 새로운 인증을 진행합니다.\n",
    "    if not creds or not creds.valid:\n",
    "        if creds and creds.expired and creds.refresh_token:\n",
    "            creds.refresh(Request())\n",
    "        else:\n",
    "            creds_filename = 'oauth-new-daebong.json'\n",
    "            flow = InstalledAppFlow.from_client_secrets_file(creds_filename, SCOPES)\n",
    "            creds = flow.run_local_server(port=8080)\n",
    "        # 새로운 인증 정보를 'token.json'에 저장합니다.\n",
    "        with open('token.json', 'wb') as token:\n",
    "            pickle.dump(creds, token)\n",
    "\n",
    "    return creds\n"
   ]
  },
  {
   "cell_type": "code",
   "execution_count": 8,
   "metadata": {},
   "outputs": [
    {
     "name": "stdout",
     "output_type": "stream",
     "text": [
      "Non-essential sheets deleted.\n"
     ]
    }
   ],
   "source": [
    "\n",
    "\n",
    "KEEP_SHEET_NAMES = ['IMP_1', '함수', '셀러코드', '셀러코드변환', '은행여기다', '잔액']\n",
    "\n",
    "\n",
    "SPREADSHEET_ID = \"1bb3MgGgyzSOhCxQ0LMVBVU5u5wjvMNmHTbFOjf1-9hs\"\n",
    "\n",
    "\n",
    "service = build('sheets', 'v4', credentials=oauthByWeb())\n",
    "\n",
    "# 스프레드시트의 모든 시트 정보 가져오기\n",
    "sheet_metadata = service.spreadsheets().get(spreadsheetId=SPREADSHEET_ID).execute()\n",
    "sheets = sheet_metadata.get('sheets', '')\n",
    "\n",
    "# 삭제할 시트 아이디 목록 생성\n",
    "sheets_to_delete = [sheet['properties']['sheetId'] for sheet in sheets if sheet['properties']['title'] not in KEEP_SHEET_NAMES]\n",
    "\n",
    "# 각 시트를 순회하며 삭제\n",
    "for sheet_id in sheets_to_delete:\n",
    "    time.sleep(1)\n",
    "    request_body = {\n",
    "        'requests': [\n",
    "            {\n",
    "                'deleteSheet': {\n",
    "                    'sheetId': sheet_id\n",
    "                }\n",
    "            }\n",
    "        ]\n",
    "    }\n",
    "    response = service.spreadsheets().batchUpdate(spreadsheetId=SPREADSHEET_ID, body=request_body).execute()\n",
    "\n",
    "print(\"Non-essential sheets deleted.\")"
   ]
  },
  {
   "cell_type": "code",
   "execution_count": null,
   "metadata": {},
   "outputs": [],
   "source": []
  }
 ],
 "metadata": {
  "kernelspec": {
   "display_name": "daebong",
   "language": "python",
   "name": "python3"
  },
  "language_info": {
   "codemirror_mode": {
    "name": "ipython",
    "version": 3
   },
   "file_extension": ".py",
   "mimetype": "text/x-python",
   "name": "python",
   "nbconvert_exporter": "python",
   "pygments_lexer": "ipython3",
   "version": "3.11.8"
  }
 },
 "nbformat": 4,
 "nbformat_minor": 2
}
