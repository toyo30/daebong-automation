{
 "cells": [
  {
   "cell_type": "code",
   "execution_count": 1,
   "metadata": {},
   "outputs": [],
   "source": [
    "from google_auth_oauthlib.flow import InstalledAppFlow\n",
    "from googleapiclient.discovery import build\n",
    "from googleapiclient.errors import HttpError\n",
    "from google.oauth2.credentials import Credentials\n",
    "from google.oauth2 import service_account\n",
    "from google.auth.transport.requests import Request\n",
    "import os.path\n",
    "import json\n",
    "import pickle\n",
    "import requests\n",
    "\n",
    "def oauth():\n",
    "    SCOPES = ['https://www.googleapis.com/auth/spreadsheets', \n",
    "              'https://www.googleapis.com/auth/script.projects', 'https://www.googleapis.com/auth/drive', 'https://www.googleapis.com/auth/drive.file'\n",
    "              ]\n",
    "    creds_filename = 'test-daebong-service-account.json'  # 서비스 계정 파일 경로를 지정합니다.\n",
    "\n",
    "    # 서비스 계정 파일을 사용하여 인증 정보를 로드합니다.\n",
    "    creds = service_account.Credentials.from_service_account_file(creds_filename, scopes=SCOPES)\n",
    "    return creds\n",
    "\n",
    "def oauthByWeb():\n",
    "    # 필요한 스코프를 지정합니다.\n",
    "    SCOPES = [\n",
    "        'https://www.googleapis.com/auth/spreadsheets',\n",
    "        'https://www.googleapis.com/auth/script.projects',\n",
    "        'https://www.googleapis.com/auth/drive',\n",
    "        'https://www.googleapis.com/auth/drive.file'\n",
    "    ]\n",
    "    creds = None\n",
    "    # 'token.json' 파일이 존재하면, 저장된 인증 정보를 불러옵니다.\n",
    "    if os.path.exists('token.json'):\n",
    "        with open('token.json', 'rb') as token:\n",
    "            creds = pickle.load(token)\n",
    "\n",
    "    # 저장된 인증 정보가 없거나, 유효하지 않은 경우 새로운 인증을 진행합니다.\n",
    "    if not creds or not creds.valid:\n",
    "        if creds and creds.expired and creds.refresh_token:\n",
    "            creds.refresh(Request())\n",
    "        else:\n",
    "            creds_filename = 'oauth-new-daebong.json'\n",
    "            flow = InstalledAppFlow.from_client_secrets_file(creds_filename, SCOPES)\n",
    "            creds = flow.run_local_server(port=8080)\n",
    "        # 새로운 인증 정보를 'token.json'에 저장합니다.\n",
    "        with open('token.json', 'wb') as token:\n",
    "            pickle.dump(creds, token)\n",
    "\n",
    "    return creds\n"
   ]
  },
  {
   "cell_type": "code",
   "execution_count": 7,
   "metadata": {},
   "outputs": [],
   "source": [
    "def importrangeAllowAccessAutomation(service, get_spreadsheet_id, give_spreadsheet_id, creds):\n",
    "    url = f'https://docs.google.com/spreadsheets/d/{get_spreadsheet_id}/externaldata/addimportrangepermissions?donorDocId={give_spreadsheet_id}&includes_info_params=true&cros_files=false'\n",
    "    headers = {\n",
    "        'Content-Type': 'application/json',\n",
    "        'Authorization': f'Bearer {creds.token}',\n",
    "    }\n",
    "    # 데이터를 JSON 형태로 변환하고, POST 요청을 보냅니다.\n",
    "    response = requests.post(url, headers=headers)\n",
    "    # 응답 확인\n",
    "    if 'application/json' in response.headers.get('Content-Type', ''):\n",
    "        try:\n",
    "            data = response.json()\n",
    "            print(data)\n",
    "        except ValueError:\n",
    "            print(\"JSON 디코딩 실패\", response.text)\n",
    "    else:\n",
    "        print(\"응답이 JSON 형식이 아닙니다:\", response.text)\n",
    "\n",
    "    "
   ]
  },
  {
   "cell_type": "code",
   "execution_count": 8,
   "metadata": {},
   "outputs": [
    {
     "name": "stdout",
     "output_type": "stream",
     "text": [
      "JSON 디코딩 실패\n"
     ]
    }
   ],
   "source": [
    "# signup_spreadsheet_id = \"1Ajz2g-pChLSoies5umhPMcgTp5m2MIjhljJOviPlWCU\"\n",
    "# targeet_id = \"\"\n",
    "\n",
    "#277\n",
    "# get_spreadsheetId = \"1yX6qBTucOtr4li9PDgI-u_QDKRvv3-1RZkaqm_xDRz4\"\n",
    "#276\n",
    "get_spreadsheetId = \"1V0EBc39eBX1ekf8DGFvCiS5SuVnTm6TehpOkhof7Jlo\"\n",
    "give_spreadsheetId = \"1lkkPYvkEzPCoKhUf41U7hiosH3fCU4zzKo8JmqXLbTQ\"\n",
    "\n",
    "\n",
    "if __name__ == \"__main__\":\n",
    "    creds = oauthByWeb()\n",
    "    service_sheets = build('sheets', 'v4', credentials=creds)\n",
    "    importrangeAllowAccessAutomation(service_sheets, get_spreadsheetId, give_spreadsheetId, creds)\n"
   ]
  },
  {
   "cell_type": "code",
   "execution_count": null,
   "metadata": {},
   "outputs": [],
   "source": []
  }
 ],
 "metadata": {
  "kernelspec": {
   "display_name": "daebong",
   "language": "python",
   "name": "python3"
  },
  "language_info": {
   "codemirror_mode": {
    "name": "ipython",
    "version": 3
   },
   "file_extension": ".py",
   "mimetype": "text/x-python",
   "name": "python",
   "nbconvert_exporter": "python",
   "pygments_lexer": "ipython3",
   "version": "3.11.8"
  }
 },
 "nbformat": 4,
 "nbformat_minor": 2
}
